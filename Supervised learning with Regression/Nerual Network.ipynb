{
 "cells": [
  {
   "cell_type": "markdown",
   "metadata": {},
   "source": [
    "# Importing Libraries"
   ]
  },
  {
   "cell_type": "code",
   "execution_count": 14,
   "metadata": {},
   "outputs": [],
   "source": [
    "import numpy as np\n",
    "import pandas as pd\n",
    "import matplotlib.pyplot as plt\n",
    "from sklearn.preprocessing import StandardScaler\n",
    "from imblearn.over_sampling import RandomOverSampler\n",
    "import copy\n",
    "import seaborn as sns\n",
    "import tensorflow as tf"
   ]
  },
  {
   "cell_type": "markdown",
   "metadata": {},
   "source": [
    "# Importing & Adjusting Dataset"
   ]
  },
  {
   "cell_type": "code",
   "execution_count": 15,
   "metadata": {},
   "outputs": [
    {
     "name": "stdout",
     "output_type": "stream",
     "text": [
      "Missing values in the entire DataFrame: False\n"
     ]
    },
    {
     "data": {
      "text/html": [
       "<div>\n",
       "<style scoped>\n",
       "    .dataframe tbody tr th:only-of-type {\n",
       "        vertical-align: middle;\n",
       "    }\n",
       "\n",
       "    .dataframe tbody tr th {\n",
       "        vertical-align: top;\n",
       "    }\n",
       "\n",
       "    .dataframe thead th {\n",
       "        text-align: right;\n",
       "    }\n",
       "</style>\n",
       "<table border=\"1\" class=\"dataframe\">\n",
       "  <thead>\n",
       "    <tr style=\"text-align: right;\">\n",
       "      <th></th>\n",
       "      <th>bike_count</th>\n",
       "      <th>temp</th>\n",
       "      <th>humidity</th>\n",
       "      <th>wind</th>\n",
       "      <th>visibility</th>\n",
       "      <th>dew_pt_temp</th>\n",
       "      <th>radiation</th>\n",
       "      <th>rain</th>\n",
       "      <th>snow</th>\n",
       "      <th>functional</th>\n",
       "    </tr>\n",
       "  </thead>\n",
       "  <tbody>\n",
       "    <tr>\n",
       "      <th>12</th>\n",
       "      <td>449</td>\n",
       "      <td>1.7</td>\n",
       "      <td>23</td>\n",
       "      <td>1.4</td>\n",
       "      <td>2000</td>\n",
       "      <td>-17.2</td>\n",
       "      <td>1.11</td>\n",
       "      <td>0.0</td>\n",
       "      <td>0.0</td>\n",
       "      <td>1</td>\n",
       "    </tr>\n",
       "    <tr>\n",
       "      <th>36</th>\n",
       "      <td>479</td>\n",
       "      <td>4.3</td>\n",
       "      <td>41</td>\n",
       "      <td>1.3</td>\n",
       "      <td>1666</td>\n",
       "      <td>-7.8</td>\n",
       "      <td>1.09</td>\n",
       "      <td>0.0</td>\n",
       "      <td>0.0</td>\n",
       "      <td>1</td>\n",
       "    </tr>\n",
       "    <tr>\n",
       "      <th>60</th>\n",
       "      <td>333</td>\n",
       "      <td>5.8</td>\n",
       "      <td>85</td>\n",
       "      <td>1.7</td>\n",
       "      <td>349</td>\n",
       "      <td>3.4</td>\n",
       "      <td>0.43</td>\n",
       "      <td>0.0</td>\n",
       "      <td>0.0</td>\n",
       "      <td>1</td>\n",
       "    </tr>\n",
       "    <tr>\n",
       "      <th>84</th>\n",
       "      <td>393</td>\n",
       "      <td>-0.3</td>\n",
       "      <td>38</td>\n",
       "      <td>4.8</td>\n",
       "      <td>1823</td>\n",
       "      <td>-12.9</td>\n",
       "      <td>1.11</td>\n",
       "      <td>0.0</td>\n",
       "      <td>0.0</td>\n",
       "      <td>1</td>\n",
       "    </tr>\n",
       "    <tr>\n",
       "      <th>108</th>\n",
       "      <td>321</td>\n",
       "      <td>-2.3</td>\n",
       "      <td>25</td>\n",
       "      <td>0.0</td>\n",
       "      <td>1962</td>\n",
       "      <td>-19.7</td>\n",
       "      <td>0.00</td>\n",
       "      <td>0.0</td>\n",
       "      <td>0.0</td>\n",
       "      <td>1</td>\n",
       "    </tr>\n",
       "  </tbody>\n",
       "</table>\n",
       "</div>"
      ],
      "text/plain": [
       "     bike_count  temp  humidity  wind  visibility  dew_pt_temp  radiation  \\\n",
       "12          449   1.7        23   1.4        2000        -17.2       1.11   \n",
       "36          479   4.3        41   1.3        1666         -7.8       1.09   \n",
       "60          333   5.8        85   1.7         349          3.4       0.43   \n",
       "84          393  -0.3        38   4.8        1823        -12.9       1.11   \n",
       "108         321  -2.3        25   0.0        1962        -19.7       0.00   \n",
       "\n",
       "     rain  snow  functional  \n",
       "12    0.0   0.0           1  \n",
       "36    0.0   0.0           1  \n",
       "60    0.0   0.0           1  \n",
       "84    0.0   0.0           1  \n",
       "108   0.0   0.0           1  "
      ]
     },
     "execution_count": 15,
     "metadata": {},
     "output_type": "execute_result"
    }
   ],
   "source": [
    "dataset_cols = [\n",
    "    \"bike_count\",\n",
    "    \"hour\",\n",
    "    \"temp\",\n",
    "    \"humidity\",\n",
    "    \"wind\",\n",
    "    \"visibility\",\n",
    "    \"dew_pt_temp\",\n",
    "    \"radiation\",\n",
    "    \"rain\",\n",
    "    \"snow\",\n",
    "    \"functional\",\n",
    "]\n",
    "# Dropping Date, Holiday & Seasons Cloumns\n",
    "df = pd.read_csv(\"SeoulBikeData.csv\", encoding=\"latin-1\").drop(\n",
    "    [\"Date\", \"Holiday\", \"Seasons\"], axis=1\n",
    ")\n",
    "df.columns = dataset_cols\n",
    "# Check if there are any missing values in the entire DataFrame\n",
    "any_missing_values = df.isna().any().any()\n",
    "print(f\"Missing values in the entire DataFrame: {any_missing_values}\")\n",
    "# Converting functional column into Zero's & One's\n",
    "df[\"functional\"] = (df[\"functional\"] == \"Yes\").astype(int)\n",
    "# Modifying then dropping the hour Column\n",
    "df = df[df[\"hour\"] == 12]\n",
    "df = df.drop([\"hour\"], axis=1)\n",
    "# Displaying dataset after modification\n",
    "df.head()"
   ]
  },
  {
   "cell_type": "markdown",
   "metadata": {},
   "source": [
    "# Dropping Unrelated ColumnsWind, Visibility & Functional "
   ]
  },
  {
   "cell_type": "code",
   "execution_count": 16,
   "metadata": {},
   "outputs": [
    {
     "data": {
      "text/html": [
       "<div>\n",
       "<style scoped>\n",
       "    .dataframe tbody tr th:only-of-type {\n",
       "        vertical-align: middle;\n",
       "    }\n",
       "\n",
       "    .dataframe tbody tr th {\n",
       "        vertical-align: top;\n",
       "    }\n",
       "\n",
       "    .dataframe thead th {\n",
       "        text-align: right;\n",
       "    }\n",
       "</style>\n",
       "<table border=\"1\" class=\"dataframe\">\n",
       "  <thead>\n",
       "    <tr style=\"text-align: right;\">\n",
       "      <th></th>\n",
       "      <th>bike_count</th>\n",
       "      <th>temp</th>\n",
       "      <th>humidity</th>\n",
       "      <th>dew_pt_temp</th>\n",
       "      <th>radiation</th>\n",
       "      <th>rain</th>\n",
       "      <th>snow</th>\n",
       "    </tr>\n",
       "  </thead>\n",
       "  <tbody>\n",
       "    <tr>\n",
       "      <th>12</th>\n",
       "      <td>449</td>\n",
       "      <td>1.7</td>\n",
       "      <td>23</td>\n",
       "      <td>-17.2</td>\n",
       "      <td>1.11</td>\n",
       "      <td>0.0</td>\n",
       "      <td>0.0</td>\n",
       "    </tr>\n",
       "    <tr>\n",
       "      <th>36</th>\n",
       "      <td>479</td>\n",
       "      <td>4.3</td>\n",
       "      <td>41</td>\n",
       "      <td>-7.8</td>\n",
       "      <td>1.09</td>\n",
       "      <td>0.0</td>\n",
       "      <td>0.0</td>\n",
       "    </tr>\n",
       "    <tr>\n",
       "      <th>60</th>\n",
       "      <td>333</td>\n",
       "      <td>5.8</td>\n",
       "      <td>85</td>\n",
       "      <td>3.4</td>\n",
       "      <td>0.43</td>\n",
       "      <td>0.0</td>\n",
       "      <td>0.0</td>\n",
       "    </tr>\n",
       "    <tr>\n",
       "      <th>84</th>\n",
       "      <td>393</td>\n",
       "      <td>-0.3</td>\n",
       "      <td>38</td>\n",
       "      <td>-12.9</td>\n",
       "      <td>1.11</td>\n",
       "      <td>0.0</td>\n",
       "      <td>0.0</td>\n",
       "    </tr>\n",
       "    <tr>\n",
       "      <th>108</th>\n",
       "      <td>321</td>\n",
       "      <td>-2.3</td>\n",
       "      <td>25</td>\n",
       "      <td>-19.7</td>\n",
       "      <td>0.00</td>\n",
       "      <td>0.0</td>\n",
       "      <td>0.0</td>\n",
       "    </tr>\n",
       "  </tbody>\n",
       "</table>\n",
       "</div>"
      ],
      "text/plain": [
       "     bike_count  temp  humidity  dew_pt_temp  radiation  rain  snow\n",
       "12          449   1.7        23        -17.2       1.11   0.0   0.0\n",
       "36          479   4.3        41         -7.8       1.09   0.0   0.0\n",
       "60          333   5.8        85          3.4       0.43   0.0   0.0\n",
       "84          393  -0.3        38        -12.9       1.11   0.0   0.0\n",
       "108         321  -2.3        25        -19.7       0.00   0.0   0.0"
      ]
     },
     "execution_count": 16,
     "metadata": {},
     "output_type": "execute_result"
    }
   ],
   "source": [
    "df = df.drop([\"wind\",\"visibility\",\"functional\"], axis=1)\n",
    "df.head()"
   ]
  },
  {
   "cell_type": "markdown",
   "metadata": {},
   "source": [
    "# Splitting into Train, Test & Valid"
   ]
  },
  {
   "cell_type": "code",
   "execution_count": 17,
   "metadata": {},
   "outputs": [
    {
     "name": "stderr",
     "output_type": "stream",
     "text": [
      "e:\\Courses\\Machine-Learning-for-Everybody\\.conda\\lib\\site-packages\\numpy\\core\\fromnumeric.py:59: FutureWarning: 'DataFrame.swapaxes' is deprecated and will be removed in a future version. Please use 'DataFrame.transpose' instead.\n",
      "  return bound(*args, **kwds)\n"
     ]
    }
   ],
   "source": [
    "train, val, test = np.split(df.sample(frac=1), [int(len(df) * 0.6), int(len(df) * 0.8)])"
   ]
  },
  {
   "cell_type": "code",
   "execution_count": 18,
   "metadata": {},
   "outputs": [],
   "source": [
    "def get_xy(dataframe, y_label, x_labels=None):\n",
    "    # Make a deep copy of the input dataframe to avoid modifying the original\n",
    "    dataframe = copy.deepcopy(dataframe)\n",
    "\n",
    "    # Check if specific X labels are provided, otherwise use all columns except y_label\n",
    "    if x_labels is None:\n",
    "        X = dataframe[[c for c in dataframe.columns if c != y_label]].values\n",
    "    else:\n",
    "        # If only one X label is provided, reshape it to a 2D array with a single column\n",
    "        if len(x_labels) == 1:\n",
    "            X = dataframe[x_labels[0]].values.reshape(-1, 1)\n",
    "        else:\n",
    "            # If multiple X labels are provided, use them as-is\n",
    "            X = dataframe[x_labels].values\n",
    "\n",
    "    # Extract the y values (dependent variable) and reshape to a 2D array with a single column\n",
    "    y = dataframe[y_label].values.reshape(-1, 1)\n",
    "\n",
    "    # Combine X and y into a single array for easy use in machine learning algorithms\n",
    "    data = np.hstack((X, y))\n",
    "\n",
    "    # Return the formatted data along with individual X and y\n",
    "    return data, X, y"
   ]
  },
  {
   "cell_type": "code",
   "execution_count": 19,
   "metadata": {},
   "outputs": [],
   "source": [
    "_, X_train_temp, y_train_temp = get_xy(train, \"bike_count\", x_labels=[\"temp\"])\n",
    "_, X_val_temp, y_val_temp = get_xy(val, \"bike_count\", x_labels=[\"temp\"])\n",
    "_, X_test_temp, y_test_temp = get_xy(test, \"bike_count\", x_labels=[\"temp\"])"
   ]
  },
  {
   "cell_type": "markdown",
   "metadata": {},
   "source": [
    "# Building NN"
   ]
  },
  {
   "cell_type": "markdown",
   "metadata": {},
   "source": [
    "## Plot Loss"
   ]
  },
  {
   "cell_type": "code",
   "execution_count": 20,
   "metadata": {},
   "outputs": [],
   "source": [
    "def plot_loss(history):\n",
    "    plt.plot(history.history[\"loss\"], label=\"loss\")\n",
    "    plt.plot(history.history[\"val_loss\"], label=\"val_loss\")\n",
    "    plt.xlabel(\"Epoch\")\n",
    "    plt.ylabel(\"MSE\")\n",
    "    plt.legend()\n",
    "    plt.grid(True)\n",
    "    plt.show()"
   ]
  },
  {
   "cell_type": "markdown",
   "metadata": {},
   "source": [
    "## Normalizing the data"
   ]
  },
  {
   "cell_type": "code",
   "execution_count": 21,
   "metadata": {},
   "outputs": [],
   "source": [
    "temp_normalizer = tf.keras.layers.Normalization(input_shape=(1,), axis=None)\n",
    "temp_normalizer.adapt(X_train_temp.reshape(-1))"
   ]
  },
  {
   "cell_type": "markdown",
   "metadata": {},
   "source": [
    "## Building Layer"
   ]
  },
  {
   "cell_type": "code",
   "execution_count": 22,
   "metadata": {},
   "outputs": [],
   "source": [
    "nn_model = tf.keras.Sequential(\n",
    "    [\n",
    "        temp_normalizer,\n",
    "        tf.keras.layers.Dense(units=32, activation=\"relu\"),\n",
    "        tf.keras.layers.Dense(units=32, activation=\"relu\"),\n",
    "        tf.keras.layers.Dense(units=32, activation=\"relu\"),\n",
    "        tf.keras.layers.Dense(units=1, activation=\"relu\"),\n",
    "\n",
    "    ]\n",
    ")"
   ]
  },
  {
   "cell_type": "markdown",
   "metadata": {},
   "source": [
    "# Compiling Network"
   ]
  },
  {
   "cell_type": "code",
   "execution_count": 23,
   "metadata": {},
   "outputs": [],
   "source": [
    "nn_model.compile(\n",
    "    optimizer=tf.keras.optimizers.Adam(learning_rate=0.001), loss=\"mean_squared_error\"\n",
    ")"
   ]
  },
  {
   "cell_type": "code",
   "execution_count": 24,
   "metadata": {},
   "outputs": [],
   "source": [
    "history = nn_model.fit(\n",
    "    X_train_temp,y_train_temp,\n",
    "    verbose=0,\n",
    "    epochs=100,\n",
    "    validation_data= (X_val_temp,y_val_temp)\n",
    "    )"
   ]
  },
  {
   "cell_type": "code",
   "execution_count": 25,
   "metadata": {},
   "outputs": [
    {
     "data": {
      "image/png": "[encoded data removed]",
      "text/plain": [
       "<Figure size 640x480 with 1 Axes>"
      ]
     },
     "metadata": {},
     "output_type": "display_data"
    }
   ],
   "source": [
    "plot_loss(history)"
   ]
  },
  {
   "cell_type": "code",
   "execution_count": 26,
   "metadata": {},
   "outputs": [
    {
     "name": "stdout",
     "output_type": "stream",
     "text": [
      "4/4 [==============================] - 0s 8ms/step\n"
     ]
    },
    {
     "data": {
      "image/png": "[encoded data removed]",
      "text/plain": [
       "<Figure size 640x480 with 1 Axes>"
      ]
     },
     "metadata": {},
     "output_type": "display_data"
    }
   ],
   "source": [
    "plt.scatter(X_train_temp, y_train_temp, label=\"Data\", color=\"blue\")\n",
    "x = tf.linspace(-20, 40, 100)\n",
    "plt.plot(\n",
    "    x,\n",
    "    nn_model.predict(np.array(x).reshape(-1, 1)),\n",
    "    label=\"Fit\",\n",
    "    color=\"red\",\n",
    "    linewidth=3,\n",
    ")\n",
    "plt.legend()\n",
    "plt.title(\"Bikes vs Temp\")\n",
    "plt.ylabel(\"Number of bikes\")\n",
    "plt.xlabel(\"Temp\")\n",
    "plt.show()"
   ]
  }
 ],
 "metadata": {
  "kernelspec": {
   "display_name": "Python 3",
   "language": "python",
   "name": "python3"
  },
  "language_info": {
   "codemirror_mode": {
    "name": "ipython",
    "version": 3
   },
   "file_extension": ".py",
   "mimetype": "text/x-python",
   "name": "python",
   "nbconvert_exporter": "python",
   "pygments_lexer": "ipython3",
   "version": "3.10.13"
  }
 },
 "nbformat": 4,
 "nbformat_minor": 2
}
